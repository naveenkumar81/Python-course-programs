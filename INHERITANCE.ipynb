{
 "cells": [
  {
   "cell_type": "code",
   "execution_count": 2,
   "metadata": {},
   "outputs": [
    {
     "name": "stdout",
     "output_type": "stream",
     "text": [
      "this is function1\n"
     ]
    }
   ],
   "source": [
    "#INHERITANCE\n",
    "#A CLASS WHICH INHERITS ATTRIBUTS AND METHODS FROM ANOTHER CLASS IS CALLED SUPER CLASS.\n",
    "# A CLASS WHICH INHERITS FROM SUPER CLASS IS CALLED SUB CLASS\n",
    "#INHERITANCE IS OF 4 TYPES:------\n",
    "#---1-- SINGLE INHERITANCE :-- INVOLVE ONE CHILD CLASS AND ONE PARENT CLASS\n",
    "class Parent():\n",
    "    def func1(self):\n",
    "        print(\"this is function1\")\n",
    "\n",
    "class Child(Parent):\n",
    "    def func2(self):\n",
    "        print(\"this is function 2\")\n",
    "        \n",
    "ob = Child()\n",
    "ob.func1()"
   ]
  },
  {
   "cell_type": "code",
   "execution_count": 4,
   "metadata": {},
   "outputs": [
    {
     "name": "stdout",
     "output_type": "stream",
     "text": [
      "this is function1\n",
      "this is function3\n"
     ]
    }
   ],
   "source": [
    "#TYPES OF INHERITANCES:----\n",
    "#.---2--MULTIPLE INHERITANCE:-- INVOLVING MORE THAN ONE PARENT CLASSS \n",
    "class Parent():\n",
    "    def func1(self):\n",
    "        print(\"this is function1\")\n",
    "\n",
    "class Parent2:\n",
    "    def func3(self):\n",
    "        print(\"this is function3\")\n",
    "        \n",
    "class Child(Parent,Parent2):\n",
    "    def func2(self):\n",
    "        print(\"this is function 2\")\n",
    "        \n",
    "ob = Child()\n",
    "ob.func1()\n",
    "ob.func3()"
   ]
  },
  {
   "cell_type": "code",
   "execution_count": 6,
   "metadata": {},
   "outputs": [
    {
     "name": "stdout",
     "output_type": "stream",
     "text": [
      "this is function1\n",
      "this is function3\n"
     ]
    }
   ],
   "source": [
    "#TYPES OF INHERITANCES:------\n",
    "# --3--.MULTI LEVEL INHERITANCE:-- CHILD CLASS ACTS AS PARENT CLASS FOR ANOTHER CHILD CLASSES\n",
    "class Parent():\n",
    "    def func1(self):\n",
    "        print(\"this is function1\")\n",
    "\n",
    "class Parent2(Parent):\n",
    "    def func3(self):\n",
    "        print(\"this is function3\")\n",
    "        \n",
    "class Child(Parent2):\n",
    "    def func2(self):\n",
    "        print(\"this is function 2\")\n",
    "        \n",
    "ob = Child()\n",
    "ob.func1()\n",
    "ob.func3()\n"
   ]
  },
  {
   "cell_type": "code",
   "execution_count": 8,
   "metadata": {},
   "outputs": [
    {
     "name": "stdout",
     "output_type": "stream",
     "text": [
      "this is function1\n",
      "this is function3\n"
     ]
    }
   ],
   "source": [
    "#TYPES OF INHERITANCE:--\n",
    "#--4-- HIERARCHIAL INHERITANCE:--- MORE THAN ONE TYPE OF INHERITANCE\n",
    "class Parent():\n",
    "    def func1(self):\n",
    "        print(\"this is function1\")\n",
    "\n",
    "class Parent2(Parent):\n",
    "    def func3(self):\n",
    "        print(\"this is function3\")\n",
    "        \n",
    "class Child(Parent):\n",
    "    def func2(self):\n",
    "        print(\"this is function 2\")\n",
    "        \n",
    "ob = Child()\n",
    "ob2 = Parent2()\n",
    "ob.func1()\n",
    "ob2.func3()"
   ]
  },
  {
   "cell_type": "code",
   "execution_count": 10,
   "metadata": {},
   "outputs": [
    {
     "name": "stdout",
     "output_type": "stream",
     "text": [
      "this is function1\n",
      "this is function 4\n"
     ]
    }
   ],
   "source": [
    "#TYPES OF INHERITANCE:--\n",
    "#---5-- HYBRID INHERITANCE:-- IT IS A COMBINATION OF INHERITANCES\n",
    "class Parent():\n",
    "    def func1(self):\n",
    "        print(\"this is function1\")\n",
    "\n",
    "class Parent2(Parent):\n",
    "    def func3(self):\n",
    "        print(\"this is function3\")\n",
    "        \n",
    "class Parent3:\n",
    "    def func4(self):\n",
    "        print('this is function 4')\n",
    "        \n",
    "class Child(Parent,Parent3):\n",
    "    def func2(self):\n",
    "        print(\"this is function 2\")\n",
    "        \n",
    "ob = Child()\n",
    "\n",
    "ob.func1()\n",
    "ob.func4()"
   ]
  },
  {
   "cell_type": "code",
   "execution_count": null,
   "metadata": {},
   "outputs": [],
   "source": []
  }
 ],
 "metadata": {
  "kernelspec": {
   "display_name": "Python 3",
   "language": "python",
   "name": "python3"
  },
  "language_info": {
   "codemirror_mode": {
    "name": "ipython",
    "version": 3
   },
   "file_extension": ".py",
   "mimetype": "text/x-python",
   "name": "python",
   "nbconvert_exporter": "python",
   "pygments_lexer": "ipython3",
   "version": "3.11.0 (main, Oct 24 2022, 18:26:48) [MSC v.1933 64 bit (AMD64)]"
  },
  "orig_nbformat": 4,
  "vscode": {
   "interpreter": {
    "hash": "48c6b02863d2b42627be01e30782f8f6eb5c63e7bc4f6c0bfa5242fa9b3f9e51"
   }
  }
 },
 "nbformat": 4,
 "nbformat_minor": 2
}
