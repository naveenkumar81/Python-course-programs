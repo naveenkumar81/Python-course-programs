{
 "cells": [
  {
   "cell_type": "code",
   "execution_count": 1,
   "metadata": {},
   "outputs": [
    {
     "name": "stdout",
     "output_type": "stream",
     "text": [
      "6\n",
      "6\n"
     ]
    }
   ],
   "source": [
    "#POLYMORPHISM :---> IT HAS SAME FUCTIONAL NAMES BUT USED FOR DIFFERENT SIGNATURES.THE KEY DIFFERENCE IS THE DATA TYPES AND NUMBER OF ARGUEMENTS USED IN F'N.\n",
    "#EXAMPLE FOR USER DEFINED POLYMORPHIC FUNCTIONS:--->\n",
    "def add(x,y,z=0):\n",
    "    return x +y+z\n",
    "print(add(2,4))\n",
    "print(add(1,2,3))"
   ]
  },
  {
   "cell_type": "code",
   "execution_count": 3,
   "metadata": {},
   "outputs": [
    {
     "name": "stdout",
     "output_type": "stream",
     "text": [
      "174\n",
      "55\n",
      "realme\n",
      "174\n",
      "50\n",
      "realme\n"
     ]
    }
   ],
   "source": [
    "#POLYMORPHIC USING WITH CLASS METHODS\n",
    "class Naveen():\n",
    "    def height(self):\n",
    "        print(174)\n",
    "    def weight(self):\n",
    "        print(55)\n",
    "    def mobile(self):\n",
    "        print('realme')\n",
    "class Lokesh():\n",
    "    def height(self):\n",
    "        print(174)\n",
    "    def weight(self):\n",
    "        print(50)\n",
    "    def mobile(self):\n",
    "        print('realme')\n",
    "\n",
    "ob1 = Naveen()\n",
    "ob2 = Lokesh()\n",
    "\n",
    "for person in (ob1,ob2):\n",
    "    person.height()\n",
    "    person.weight()\n",
    "    person.mobile()\n",
    "    \n",
    " "
   ]
  },
  {
   "cell_type": "code",
   "execution_count": 7,
   "metadata": {},
   "outputs": [
    {
     "name": "stdout",
     "output_type": "stream",
     "text": [
      "all are in equl heights\n",
      "55\n",
      "all are in equl heights\n",
      "50\n",
      "all are in equl heights\n",
      "45\n"
     ]
    }
   ],
   "source": [
    "#POLYMORPHISM WITH INHERITANCE :---> METHOD OVER RIDING\n",
    "#METHOD OVER RIDING:--> THE PROCESS RE-IMPLETING OF METHODS IN THE SUB-CLASS\n",
    "class naveen():\n",
    "    def height(self):\n",
    "        print(\"all are in equl heights\")\n",
    "    def weight(self):\n",
    "        print(55)\n",
    "class lokesh(naveen):\n",
    "    def weight(self):\n",
    "        print(50)\n",
    "class amrutha(naveen):\n",
    "    def weight(self):\n",
    "        print(45)\n",
    "ob1 = naveen()\n",
    "ob2 = lokesh()\n",
    "ob3 = amrutha()\n",
    "\n",
    "ob1.height()\n",
    "ob1.weight()\n",
    "ob2.height()\n",
    "ob2.weight()\n",
    "ob3.height()\n",
    "ob3.weight()\n",
    "\n"
   ]
  },
  {
   "cell_type": "code",
   "execution_count": 9,
   "metadata": {},
   "outputs": [
    {
     "name": "stdout",
     "output_type": "stream",
     "text": [
      "174\n",
      "55\n",
      "realme\n",
      "174\n",
      "50\n",
      "realme\n"
     ]
    }
   ],
   "source": [
    "#POLYMORPHISM WITH A FUNCTION AND OBJECTS\n",
    "\n",
    "class Naveen():\n",
    "    def height(self):\n",
    "        print(174)\n",
    "    def weight(self):\n",
    "        print(55)\n",
    "    def mobile(self):\n",
    "        print('realme')\n",
    "class Lokesh():\n",
    "    def height(self):\n",
    "        print(174)\n",
    "    def weight(self):\n",
    "        print(50)\n",
    "    def mobile(self):\n",
    "        print('realme')\n",
    "        \n",
    "def fun(obj):\n",
    "    obj.height()\n",
    "    obj.weight()\n",
    "    obj.mobile()\n",
    "    \n",
    "obj1 = Naveen()\n",
    "obj2 = Lokesh()\n",
    "fun(ob1)\n",
    "fun(obj2)\n"
   ]
  },
  {
   "cell_type": "code",
   "execution_count": null,
   "metadata": {},
   "outputs": [],
   "source": []
  },
  {
   "cell_type": "code",
   "execution_count": null,
   "metadata": {},
   "outputs": [],
   "source": []
  }
 ],
 "metadata": {
  "kernelspec": {
   "display_name": "Python 3",
   "language": "python",
   "name": "python3"
  },
  "language_info": {
   "codemirror_mode": {
    "name": "ipython",
    "version": 3
   },
   "file_extension": ".py",
   "mimetype": "text/x-python",
   "name": "python",
   "nbconvert_exporter": "python",
   "pygments_lexer": "ipython3",
   "version": "3.11.0 (main, Oct 24 2022, 18:26:48) [MSC v.1933 64 bit (AMD64)]"
  },
  "orig_nbformat": 4,
  "vscode": {
   "interpreter": {
    "hash": "48c6b02863d2b42627be01e30782f8f6eb5c63e7bc4f6c0bfa5242fa9b3f9e51"
   }
  }
 },
 "nbformat": 4,
 "nbformat_minor": 2
}
