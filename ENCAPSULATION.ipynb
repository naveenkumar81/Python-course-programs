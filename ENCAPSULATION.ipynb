{
 "cells": [
  {
   "cell_type": "code",
   "execution_count": 2,
   "metadata": {},
   "outputs": [
    {
     "name": "stdout",
     "output_type": "stream",
     "text": [
      "MainClass: 174\n",
      "Modifiedvalu: 1455\n",
      "accessing the protected member of obj1 1455\n",
      "accessing the protected member of obj2 174\n"
     ]
    }
   ],
   "source": [
    "#ENCAPSULATION:---> IT IS THE PROCESS OF WRAPPING DATA AND TE METHODS THATS WORK WITHIN ONE UNIT..\n",
    "\n",
    "#PRIVATE VARAIBLES:----> AN OBJECTS METHOD CAN CHANGE A VARIABLES VALUE TO PREVENT ACCIDENTAL CHANGES. THOSE VARAIBLES ARE CALLED PRIVATE VARIABLES.\n",
    "\n",
    "# PROTECTED MEMBERS:--> THE MEMBERS OF CLASS CAN BE ABLE TO ACCESS WITHIN THE CLASS BUT CANNOT ACCESSED BY OUTSIDE OF IT.\n",
    "# THE PROTECTED VARIABLES CAN ACCESS FROM IN THE CLASS AND CAN MODIFY THE DATA WITHIN THE DERIVED CLASS,BUT NOT TO\n",
    "#          --->NOT TO ACCESS FROM OUTSIDE OF CLASS.\n",
    "\n",
    "#PRIVATE MEMBER:--> THE CLASS MEMBERS WHO HAVE DECLARED IN PRIVATE SHOULD NOT ACCESS BY ANY ONE OUTSIDE THE CLASS OR ANY BASE CLASS.\n",
    "          # __>DENOTED BY UNDER SCORE (_)\n",
    "class MainClass:\n",
    "    def __init__(self):\n",
    "        self._N = 174\n",
    "class SubClass(MainClass):\n",
    "    def __init__(self):\n",
    "        MainClass.__init__(self)\n",
    "        print(\"MainClass:\",self._N)\n",
    "        self._N = 1455\n",
    "        print(\"Modifiedvalu:\",self._N)\n",
    "obj1 = SubClass()\n",
    "obj2 = MainClass()\n",
    "print(\"accessing the protected member of obj1\",obj1._N)\n",
    "print(\"accessing the protected member of obj2\",obj2._N)\n",
    "        "
   ]
  },
  {
   "cell_type": "code",
   "execution_count": 4,
   "metadata": {},
   "outputs": [
    {
     "name": "stdout",
     "output_type": "stream",
     "text": [
      "mainclass valuse: 123\n",
      "modified value : 456\n",
      "accessing the protected member: 456\n",
      "accessing the protected member : 123\n"
     ]
    }
   ],
   "source": [
    "# ANOTHER EXAMPLE FOR ENCAPSULATION\n",
    "class naveen:\n",
    "    def __init__(self):\n",
    "        self.a = 12\n",
    "        self._b = 123\n",
    "class subclass(naveen):\n",
    "    def __init__(self):\n",
    "        naveen.__init__(self)\n",
    "        print(\"mainclass valuse:\",self._b)\n",
    "        self._b = 456\n",
    "        print(\"modified value :\",self._b)\n",
    "obj1 = subclass()\n",
    "obj2 = naveen()\n",
    "print(\"accessing the protected member:\",obj1._b)\n",
    "print(\"accessing the protected member :\",obj2._b)\n",
    "    "
   ]
  }
 ],
 "metadata": {
  "kernelspec": {
   "display_name": "Python 3",
   "language": "python",
   "name": "python3"
  },
  "language_info": {
   "codemirror_mode": {
    "name": "ipython",
    "version": 3
   },
   "file_extension": ".py",
   "mimetype": "text/x-python",
   "name": "python",
   "nbconvert_exporter": "python",
   "pygments_lexer": "ipython3",
   "version": "3.11.0 (main, Oct 24 2022, 18:26:48) [MSC v.1933 64 bit (AMD64)]"
  },
  "orig_nbformat": 4,
  "vscode": {
   "interpreter": {
    "hash": "48c6b02863d2b42627be01e30782f8f6eb5c63e7bc4f6c0bfa5242fa9b3f9e51"
   }
  }
 },
 "nbformat": 4,
 "nbformat_minor": 2
}
