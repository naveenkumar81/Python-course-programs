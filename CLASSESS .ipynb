{
 "cells": [
  {
   "cell_type": "code",
   "execution_count": 5,
   "metadata": {},
   "outputs": [
    {
     "name": "stdout",
     "output_type": "stream",
     "text": [
      "{'modelname': 'bolt', 'yearm': 2006, 'price': 555636}\n",
      "{'modelname': 'city', 'yearm': 2003, 'price': 10037383, 'cc': 1500}\n",
      "10037383\n",
      "25093457\n"
     ]
    }
   ],
   "source": [
    "# CLASS IS A BLUEPRINT FROM WHICH SPECIFIED INSTANCE (OR) OBJECTS ARE CREATED\n",
    "# CLASS HAS INSTANCE VARIABLE,CLASS VARIABLE ,DATA MEMBER\n",
    "#IN CLASS,THE OBJECTS HAVE ALL UNIQUE VALUES\n",
    "#AN EXAPLE FOR CLASS-->>\n",
    "class car():  #<-- car()= class variable\n",
    "    def __init__(self,modelname,yearm,price):\n",
    "        self.modelname = modelname\n",
    "        self.yearm = yearm\n",
    "        self.price = price\n",
    "    def price_inc(self): #<-- calling another function\n",
    "        self.price=int(self.price*2.5)\n",
    "        \n",
    "honda = car('city',2003,10037383) #<---data memeber\n",
    "tata = car('bolt',2006,555636)  #<---data memeber\n",
    "honda.cc=1500 #<--instance variable\n",
    "print(tata.__dict__)\n",
    "print(honda.__dict__)\n",
    "print(honda.price)\n",
    "honda.price_inc()\n",
    "print(honda.price)  #<---called another function"
   ]
  },
  {
   "cell_type": "code",
   "execution_count": 4,
   "metadata": {},
   "outputs": [
    {
     "name": "stdout",
     "output_type": "stream",
     "text": [
      "thalapthy 20 bigil\n"
     ]
    }
   ],
   "source": [
    "#CLASS USING __INIT__ \n",
    "class Parent():\n",
    "    def __init__(self,fname,fage):\n",
    "        self.name = fname\n",
    "        self.age = fage\n",
    "    def view(self):\n",
    "        print(self.name,self.age)\n",
    "class child(Parent):\n",
    "    def __init__(self,fname,fage):\n",
    "        Parent.__init__(self,fname,fage)\n",
    "        self.lastname = 'bigil'\n",
    "    def view(self):\n",
    "        print(self.age,self.name,self.lastname)\n",
    "\n",
    "ob = child(20,'thalapthy')\n",
    "ob.view()"
   ]
  },
  {
   "cell_type": "code",
   "execution_count": 6,
   "metadata": {},
   "outputs": [
    {
     "name": "stdout",
     "output_type": "stream",
     "text": [
      "this is function 1\n",
      "this is function 2\n"
     ]
    }
   ],
   "source": [
    "#PYTHON SUPER FUNCTION\n",
    "#SUPER():--IT DIRECTLY CALLS THE PARENT FUNCTION\n",
    "class Parent():\n",
    "    def func1(self):\n",
    "        print(\"this is function 1\")\n",
    "        \n",
    "class Child(Parent):\n",
    "    def func2(self):\n",
    "        super().func1()\n",
    "        print(\"this is function 2\")\n",
    "        \n",
    "ob = Child()\n",
    "ob.func2()"
   ]
  },
  {
   "cell_type": "code",
   "execution_count": 1,
   "metadata": {},
   "outputs": [
    {
     "name": "stdout",
     "output_type": "stream",
     "text": [
      "all are in equl heights\n",
      "55\n",
      "all are in equl heights\n",
      "50\n",
      "all are in equl heights\n",
      "45\n"
     ]
    }
   ],
   "source": [
    "#CLASS METHODS:--- 2  \n",
    "# --1-- METHOD OVER RIDING:-- TO CHANGE THE FUNCTIONALITY OF PARENT CLASS FUNCTION\n",
    "#METHOD OVER RIDING:--> THE PROCESS RE-IMPLETING OF METHODS IN THE SUB-CLASS\n",
    "class naveen():\n",
    "    def height(self):\n",
    "        print(\"all are in equl heights\")\n",
    "    def weight(self):\n",
    "        print(55)\n",
    "class lokesh(naveen):\n",
    "    def weight(self):\n",
    "        print(50)\n",
    "class amrutha(naveen):\n",
    "    def weight(self):\n",
    "        print(45)\n",
    "ob1 = naveen()\n",
    "ob2 = lokesh()\n",
    "ob3 = amrutha()\n",
    "\n",
    "ob1.height()\n",
    "ob1.weight()\n",
    "ob2.height()\n",
    "ob2.weight()\n",
    "ob3.height()\n",
    "ob3.weight()\n"
   ]
  },
  {
   "cell_type": "code",
   "execution_count": 1,
   "metadata": {},
   "outputs": [
    {
     "ename": "ModuleNotFoundError",
     "evalue": "No module named 'multipledispatch'",
     "output_type": "error",
     "traceback": [
      "\u001b[1;31m---------------------------------------------------------------------------\u001b[0m",
      "\u001b[1;31mModuleNotFoundError\u001b[0m                       Traceback (most recent call last)",
      "Cell \u001b[1;32mIn[1], line 4\u001b[0m\n\u001b[0;32m      1\u001b[0m \u001b[39m#class methods:---\u001b[39;00m\n\u001b[0;32m      2\u001b[0m \u001b[39m#METHOD OVER LOADING:-- ONE METHODS PERFORMS MANY TASKSS\u001b[39;00m\n\u001b[0;32m      3\u001b[0m \u001b[39m# we can use any programs , but by using multipedispatch modules. it is the most efficient one\u001b[39;00m\n\u001b[1;32m----> 4\u001b[0m \u001b[39mfrom\u001b[39;00m \u001b[39mmultipledispatch\u001b[39;00m \u001b[39mimport\u001b[39;00m dispatch\n",
      "\u001b[1;31mModuleNotFoundError\u001b[0m: No module named 'multipledispatch'"
     ]
    }
   ],
   "source": [
    "#class methods:---\n",
    "#METHOD OVER LOADING:-- ONE METHODS PERFORMS MANY TASKSS\n",
    "# we can use any programs , but by using multipedispatch modules. it is the most efficient one\n",
    "from multipledispatch import dispatch\n"
   ]
  },
  {
   "cell_type": "code",
   "execution_count": null,
   "metadata": {},
   "outputs": [
    {
     "name": "stdout",
     "output_type": "stream",
     "text": [
      "object value 12\n",
      "value of class variable: 1\n",
      "object value 23\n",
      "value of class variable: 2\n",
      "object is going out of scope 12\n",
      "object is going out of scope 23\n"
     ]
    }
   ],
   "source": [
    "#__DEL__() METHOD IS USED WHEN AN OBJECT IS GOING OUT OF SCOPE\n",
    "class ABC():\n",
    "    class_var = 0\n",
    "    def __init__(self,var):\n",
    "        ABC.class_var += 1\n",
    "        self.var = var\n",
    "        print(\"object value\",var)\n",
    "        print(\"value of class variable:\",ABC.class_var)\n",
    "    def __del__(self):\n",
    "        ABC.class_var -= 1\n",
    "        print(\"object is going out of scope\",self.var)\n",
    "obj1 = ABC(12)\n",
    "obj2 = ABC(23)\n",
    "del obj1\n",
    "del obj2"
   ]
  },
  {
   "cell_type": "code",
   "execution_count": 3,
   "metadata": {},
   "outputs": [
    {
     "name": "stdout",
     "output_type": "stream",
     "text": [
      "the representation of obj 10\n",
      "length of obj 5\n",
      "second valu is less than first value\n"
     ]
    }
   ],
   "source": [
    "# OTHER SPECIAL METHODS\n",
    "#__REPR__() == REPRESENTS A STRING OF AN OBJECT\n",
    "#__CMP__() == COMPARES THE OBJECTS\n",
    "#__LEN__() ==RETURNS THE LENGTH OF OBJECT\n",
    "class ABC():\n",
    "    def __init__(self,name,var):\n",
    "        self.name = name\n",
    "        self.var = var\n",
    "    def __repr__(self):\n",
    "        return repr(self.var)\n",
    "    def __len__(self):\n",
    "        return len(self.name)\n",
    "    def __cmp__(self,obj):\n",
    "        return self.var - obj.var\n",
    "obj = ABC(\"abcsd\",10)\n",
    "print(\"the representation of obj\",repr(obj))\n",
    "print(\"length of obj\",len(obj))\n",
    "obj1 = ABC(\"juyrrety\",1)\n",
    "val = obj.__cmp__(obj1)\n",
    "if val == 0:\n",
    "    print(\"both are same values\")\n",
    "elif val == -1:\n",
    "    print(\"first value is less than second\")\n",
    "else :\n",
    "    print(\"second valu is less than first value\")\n"
   ]
  },
  {
   "cell_type": "code",
   "execution_count": 8,
   "metadata": {},
   "outputs": [
    {
     "name": "stdout",
     "output_type": "stream",
     "text": [
      "3\n",
      "[1, 2, 3, 4, 12, 6]\n"
     ]
    }
   ],
   "source": [
    "#__GETITEM__(), __SETITEM__() METHODS\n",
    "class ABC:\n",
    "    def __init__(self,mylist):\n",
    "        self.mylist = mylist\n",
    "    def __getitem__(self,index):\n",
    "        return self.mylist[index]\n",
    "    def __setitem__(self,index,val):\n",
    "        self.mylist[index] = val\n",
    "num = ABC([1,2,3,4,5,6])\n",
    "print(num[2])\n",
    "num[4] = 12\n",
    "print(num.mylist)"
   ]
  },
  {
   "cell_type": "code",
   "execution_count": 12,
   "metadata": {},
   "outputs": [
    {
     "name": "stdout",
     "output_type": "stream",
     "text": [
      "sub class public variable : 10\n",
      " sub class private variable : 20\n",
      "main class public variable : 10\n",
      "main class private variable 20\n"
     ]
    }
   ],
   "source": [
    "# ILLUSTRATION BETWEEN PUBLIC AND PRIVATE VARIABLE\n",
    "class ABC():\n",
    "    def __init__(self,var1,var2):\n",
    "        self.var1 = var1\n",
    "        self.__var2 = var2\n",
    "    def display(self):\n",
    "        print(\"sub class public variable :\",self.var1)\n",
    "        print(\" sub class private variable :\", self.__var2)\n",
    "obj = ABC(10,20)\n",
    "obj.display()\n",
    "print(\"main class public variable :\",obj.var1)\n",
    "#print(\"main class private variable:\",obj.__var2)\n",
    "\n",
    "# instead of using ob.__var2 --> use object._classname__var/method/fuction\n",
    "print(\"main class private variable\",obj._ABC__var2)"
   ]
  },
  {
   "cell_type": "code",
   "execution_count": 14,
   "metadata": {},
   "outputs": [
    {
     "name": "stdout",
     "output_type": "stream",
     "text": [
      "var is = 235457\n"
     ]
    }
   ],
   "source": [
    "# calling a class method from anothr class method\n",
    "class ABC():\n",
    "    def __init__(self,var):\n",
    "        self.var = var\n",
    "    def display(self):\n",
    "        print(\"var is =\",self.var)\n",
    "    def add_3(self):\n",
    "        self.var +=3\n",
    "        self.display()\n",
    "obj = ABC(235454)\n",
    "obj.add_3()         \n",
    "    "
   ]
  },
  {
   "cell_type": "code",
   "execution_count": 15,
   "metadata": {},
   "outputs": [
    {
     "data": {
      "text/plain": [
       "' this is a doc string'"
      ]
     },
     "execution_count": 15,
     "metadata": {},
     "output_type": "execute_result"
    }
   ],
   "source": [
    "# DOC STRINGS FROM CLASSES CAN BE ACCESED BY CLASSNAME.__DOC__\n",
    "class ABC:\n",
    "    ''' this is a doc string'''\n",
    "    pass\n",
    "ABC.__doc__"
   ]
  },
  {
   "cell_type": "code",
   "execution_count": 20,
   "metadata": {},
   "outputs": [
    {
     "name": "stdout",
     "output_type": "stream",
     "text": [
      "var : 10\n",
      "var : 100\n"
     ]
    }
   ],
   "source": [
    "#CLASS METHGOD CALLING A F'N WHICH IS DEFINED IN A GLOBAL NAMESPACE\n",
    "# A CLASS IS NEVER USED AS GLOBAL SCOPE\n",
    "def mul_10(x):\n",
    "    return x*10\n",
    "class ABC():\n",
    "    def __init__(self,var):\n",
    "        self.var = var\n",
    "    def display(self):\n",
    "        print(\"var :\",self.var)\n",
    "    def modify(self):\n",
    "        self.var = mul_10(self.var)\n",
    "obj = ABC(10)\n",
    "obj.display()\n",
    "obj.modify()\n",
    "obj.display()"
   ]
  },
  {
   "cell_type": "code",
   "execution_count": 21,
   "metadata": {},
   "outputs": [
    {
     "name": "stdout",
     "output_type": "stream",
     "text": [
      "var is : 19\n",
      "new var1 : 23\n",
      "new var 2:  34\n"
     ]
    },
    {
     "ename": "AttributeError",
     "evalue": "'ABC' object has no attribute 'new_var'",
     "output_type": "error",
     "traceback": [
      "\u001b[1;31m---------------------------------------------------------------------------\u001b[0m",
      "\u001b[1;31mAttributeError\u001b[0m                            Traceback (most recent call last)",
      "Cell \u001b[1;32mIn[21], line 14\u001b[0m\n\u001b[0;32m     12\u001b[0m \u001b[39mprint\u001b[39m(\u001b[39m\"\u001b[39m\u001b[39mnew var 2: \u001b[39m\u001b[39m\"\u001b[39m,obj\u001b[39m.\u001b[39mnew_var)\n\u001b[0;32m     13\u001b[0m \u001b[39mdel\u001b[39;00m obj\u001b[39m.\u001b[39mnew_var\n\u001b[1;32m---> 14\u001b[0m \u001b[39mprint\u001b[39m(\u001b[39m\"\u001b[39m\u001b[39m deleted new var :\u001b[39m\u001b[39m\"\u001b[39m,obj\u001b[39m.\u001b[39;49mnew_var)\n",
      "\u001b[1;31mAttributeError\u001b[0m: 'ABC' object has no attribute 'new_var'"
     ]
    }
   ],
   "source": [
    "# ADDING VARIABLES IN BETWWEN CLASSES IN RUN-TIME----->\n",
    "class ABC():\n",
    "    def __init__(self,var):\n",
    "        self.var = var\n",
    "    def display(self):\n",
    "        print(\"var is :\",self.var)\n",
    "obj = ABC(19)\n",
    "obj.display()\n",
    "obj.new_var = 23\n",
    "print(\"new var1 :\",obj.new_var)\n",
    "obj.new_var = 34\n",
    "print(\"new var 2: \",obj.new_var)\n",
    "del obj.new_var\n",
    "print(\" deleted new var :\",obj.new_var)"
   ]
  },
  {
   "cell_type": "code",
   "execution_count": 22,
   "metadata": {},
   "outputs": [
    {
     "name": "stdout",
     "output_type": "stream",
     "text": [
      "var is = 10\n",
      "checking it has attribute: True\n",
      "new setted value = 56\n",
      "added newly attribute count =  23\n"
     ]
    },
    {
     "ename": "AttributeError",
     "evalue": "'ABC' object has no attribute 'var'",
     "output_type": "error",
     "traceback": [
      "\u001b[1;31m---------------------------------------------------------------------------\u001b[0m",
      "\u001b[1;31mAttributeError\u001b[0m                            Traceback (most recent call last)",
      "Cell \u001b[1;32mIn[22], line 20\u001b[0m\n\u001b[0;32m     18\u001b[0m \u001b[39mprint\u001b[39m(\u001b[39m\"\u001b[39m\u001b[39madded newly attribute count = \u001b[39m\u001b[39m\"\u001b[39m,obj\u001b[39m.\u001b[39mcount)\n\u001b[0;32m     19\u001b[0m \u001b[39mdelattr\u001b[39m(obj,\u001b[39m'\u001b[39m\u001b[39mvar\u001b[39m\u001b[39m'\u001b[39m)\n\u001b[1;32m---> 20\u001b[0m \u001b[39mprint\u001b[39m(\u001b[39m\"\u001b[39m\u001b[39mdeleted attribute is =\u001b[39m\u001b[39m\"\u001b[39m,obj\u001b[39m.\u001b[39;49mvar)\n",
      "\u001b[1;31mAttributeError\u001b[0m: 'ABC' object has no attribute 'var'"
     ]
    }
   ],
   "source": [
    "# BUILT-IN FUNCTIONS IN CLASS TO CHECK CLASS ATTRIBUTES\n",
    "# hasattr(obj,name)--> CHECKS THE ATTRIBUTES WHETHER IT IS IN THE CLASS,RETURNS TRUE OR FALSE\n",
    "# getattr(obj,name)--> GETS THE ATTRIBUTES FROM THE OBJECT. OBJ AS PRIMARY PARAMETER, NAME AS SECONDARY\n",
    "# setattr(obj,name,value)-> SETS THE VALUE IN NAME FROM THE OBJECTS\n",
    "# delattr(obj,name)--> DELETES THE ATTRIBUTES IN THE OBJECTS FROM THE CLASS\n",
    "class ABC():\n",
    "    def __init__(self,var):\n",
    "        self.var = var\n",
    "    def display(self):\n",
    "        print(\"var is =\",self.var)\n",
    "obj = ABC(10)\n",
    "obj.display()\n",
    "print(\"checking it has attribute:\",hasattr(obj,'var'))\n",
    "getattr(obj,'var')\n",
    "setattr(obj,'var',56)\n",
    "print(\"new setted value =\",obj.var)\n",
    "setattr(obj,'count',23)\n",
    "print(\"added newly attribute count = \",obj.count)\n",
    "delattr(obj,'var')\n",
    "print(\"deleted attribute is =\",obj.var)"
   ]
  },
  {
   "cell_type": "code",
   "execution_count": 28,
   "metadata": {},
   "outputs": [
    {
     "name": "stdout",
     "output_type": "stream",
     "text": [
      " var1 is = 10\n",
      "var2 is =  143.45\n",
      "dictionary format = {'var1': 10, 'var2': 143.45}\n",
      "docstrings =  None\n",
      "name of the class = ABC\n",
      "module of the class = __main__\n",
      "base of the class =  <class 'object'>\n"
     ]
    }
   ],
   "source": [
    "# BUILT-IN ATTRIBUTES IN CLASS-->\n",
    "# THEY ARE DEFINED BY OBJECT.ATTRIBUTE-->\n",
    "# OBJ.__DICT__--> GIVES THE THE ATTRIBUTES IN DICTIONARY FORMAT\n",
    "# OBJ.__DOC__ =>GIVES THE DOICSTRINGS FROM THE CLASSES, OTHER WISE IT GIVES NONE OUTPUT\n",
    "# OBJ.__MODULE__=>GIVE STHE MODULE IN THA CLASS / SUBCLASS--MAIN,,,,\n",
    "# CLASSNAME.__NAME__=> GIVES THE NAME OF THE CLASS\n",
    "# CLASSNAME.__BASES__=> IT IS USED IN INHERITANCE TO RETURN THE BASE CLASS IN THE BASE CLASS LIST\n",
    "class ABC():\n",
    "    def __init__(self,var1,var2):\n",
    "        self.var1 = var1\n",
    "        self.var2 = var2\n",
    "    def display(self):\n",
    "        print(\" var1 is =\",self.var1)\n",
    "        print(\"var2 is = \",self.var2)\n",
    "obj = ABC(10,143.45)\n",
    "obj.display()\n",
    "print(\"dictionary format =\",obj.__dict__)\n",
    "print(\"docstrings = \",obj.__doc__)\n",
    "print(\"name of the class =\",ABC.__name__)\n",
    "print(\"module of the class =\",obj.__module__)\n",
    "print(\"base of the class = \",ABC.__base__)\n"
   ]
  },
  {
   "cell_type": "code",
   "execution_count": null,
   "metadata": {},
   "outputs": [],
   "source": []
  }
 ],
 "metadata": {
  "kernelspec": {
   "display_name": "Python 3",
   "language": "python",
   "name": "python3"
  },
  "language_info": {
   "codemirror_mode": {
    "name": "ipython",
    "version": 3
   },
   "file_extension": ".py",
   "mimetype": "text/x-python",
   "name": "python",
   "nbconvert_exporter": "python",
   "pygments_lexer": "ipython3",
   "version": "3.11.0 (main, Oct 24 2022, 18:26:48) [MSC v.1933 64 bit (AMD64)]"
  },
  "orig_nbformat": 4,
  "vscode": {
   "interpreter": {
    "hash": "48c6b02863d2b42627be01e30782f8f6eb5c63e7bc4f6c0bfa5242fa9b3f9e51"
   }
  }
 },
 "nbformat": 4,
 "nbformat_minor": 2
}
