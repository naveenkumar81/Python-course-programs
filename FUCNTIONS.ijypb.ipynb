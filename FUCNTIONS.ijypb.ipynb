{
 "cells": [
  {
   "cell_type": "code",
   "execution_count": 3,
   "metadata": {},
   "outputs": [
    {
     "name": "stdout",
     "output_type": "stream",
     "text": [
      "hi\n",
      "bigil\n"
     ]
    }
   ],
   "source": [
    "def fn(n):\n",
    "    def fn1():\n",
    "        return \"hi\"\n",
    "    def fn2():\n",
    "        return \"bigil\"\n",
    "    if n==1:\n",
    "        return fn1()\n",
    "    else:\n",
    "        return fn2()\n",
    "a = fn(1)\n",
    "b = fn(2) \n",
    "print(a)\n",
    "print(b) \n",
    "  "
   ]
  },
  {
   "cell_type": "code",
   "execution_count": 19,
   "metadata": {},
   "outputs": [
    {
     "name": "stdout",
     "output_type": "stream",
     "text": [
      "hello\n",
      "welcome to the world\n",
      "pythnista\n"
     ]
    }
   ],
   "source": [
    "\n",
    "#decorators in functions\n",
    "def fn1(fn):\n",
    "    def wrapper():\n",
    "        print(\"hello\")\n",
    "        fn()\n",
    "        print(\"pythnista\")\n",
    "    return wrapper\n",
    "def fn2():\n",
    "    print(\"welcome to the world\")\n",
    "\n",
    "\n",
    "fn2=fn1(fn2)\n",
    "\n",
    "\n",
    "fn2()"
   ]
  },
  {
   "cell_type": "code",
   "execution_count": 4,
   "metadata": {},
   "outputs": [
    {
     "name": "stdout",
     "output_type": "stream",
     "text": [
      "13\n",
      "16\n"
     ]
    }
   ],
   "source": [
    "#lamda within user defined functions\n",
    "def A(x):\n",
    "    return (lambda y:x+y)\n",
    "t=A(5)\n",
    "print(t(8))\n",
    "u=A(7)\n",
    "print(u(9))"
   ]
  },
  {
   "cell_type": "code",
   "execution_count": 5,
   "metadata": {},
   "outputs": [
    {
     "name": "stdout",
     "output_type": "stream",
     "text": [
      "[6]\n"
     ]
    }
   ],
   "source": [
    "#LAMBDA WITH IN FILTER() == returns value if conditions are true\n",
    "mylist=[1,2,3,4,5,6]\n",
    "newlist=list(filter(lambda a:(a/3==2),mylist))\n",
    "print(newlist)"
   ]
  },
  {
   "cell_type": "code",
   "execution_count": 8,
   "metadata": {},
   "outputs": [
    {
     "name": "stdout",
     "output_type": "stream",
     "text": [
      "[True, True, True, True, True, False]\n"
     ]
    }
   ],
   "source": [
    "#LAMBDA WITHIN MAP() == returns just condition is true or false  SYNTAX==(FUNC,ITERABLES)\n",
    "mylist=[1,2,3,4,5,6]\n",
    "newlist=list(map(lambda a:(a/3!=2),mylist))\n",
    "print(newlist)\n"
   ]
  },
  {
   "cell_type": "code",
   "execution_count": 10,
   "metadata": {},
   "outputs": [
    {
     "data": {
      "text/plain": [
       "3959"
      ]
     },
     "execution_count": 10,
     "metadata": {},
     "output_type": "execute_result"
    }
   ],
   "source": [
    "#LAMBDA WITHIN REDUCE()== RETURNS SINGLE VALUES BY REDUCING A/C TO CONDTION SYNTAX==(FUNCTION,SEQUENCE)\n",
    "from functools import reduce\n",
    "reduce(lambda a,b: a+b,[12,445,67,3435])\n"
   ]
  },
  {
   "cell_type": "code",
   "execution_count": 17,
   "metadata": {},
   "outputs": [
    {
     "name": "stdout",
     "output_type": "stream",
     "text": [
      "16\n",
      "25\n",
      "1728\n"
     ]
    }
   ],
   "source": [
    "##LAMBDA FOR ALGEBRA\n",
    "#LINEAR EQUATGIONS\n",
    "s=lambda a:a*a\n",
    "print(s(4))\n",
    "y=lambda x,z:3*x+4*z\n",
    "print(y(3,4))\n",
    "#QUADRATIC EQUATIONS\n",
    "k=lambda q,w: (q+w)**3\n",
    "print(k(5,7))"
   ]
  },
  {
   "cell_type": "code",
   "execution_count": 1,
   "metadata": {},
   "outputs": [
    {
     "name": "stdout",
     "output_type": "stream",
     "text": [
      "{10, 12, 14, 7}\n"
     ]
    }
   ],
   "source": [
    "#functions in functions--\n",
    "#MAP()==RETURNS A NEW PARAMETERS IN A SEQUQNCE MANNER #Ant data type can be converted into required data type\n",
    "def new(a,b):\n",
    "    return a+b\n",
    "x=map(new,[1,3,4,5,6],[6,7,8,9,4])\n",
    "print(set(x))    "
   ]
  },
  {
   "cell_type": "code",
   "execution_count": 4,
   "metadata": {},
   "outputs": [
    {
     "name": "stdout",
     "output_type": "stream",
     "text": [
      "[23, 4, 5, 6, 7, 8, 8]\n",
      "{4, 5, 6, 7, 8, 567}\n"
     ]
    }
   ],
   "source": [
    "#FILTER FIUNCTION==RETURNS TRUE OR FALSE A/C TO GIVEN CONDITION BY PRINTIING-PRINT(DATA TYPR(PARAMRTER))\n",
    "def new(i):\n",
    "    if i>=3:\n",
    "        return i\n",
    "x=filter(new,[1,23,4,5,6,7,8,8])\n",
    "print(list(x))\n",
    "\n",
    "#if we want to print one data type to another data type,then use lamda function into filer()\n",
    "z=filter(lambda a: (a>=4),[1,2,3,4,5,6,7,8,567])\n",
    "print(set(z))"
   ]
  },
  {
   "cell_type": "code",
   "execution_count": 7,
   "metadata": {},
   "outputs": [
    {
     "name": "stdout",
     "output_type": "stream",
     "text": [
      "45\n"
     ]
    }
   ],
   "source": [
    "#REDUCE() FUNCTION RETURNS A SINGLE VALUE BY SOLVING A/C TO OUR CONDITION\n",
    "from functools import reduce\n",
    "def new(x,y):\n",
    "    return x+y\n",
    "s=reduce(new,[1,2,3,4,5,6,7,8,9])\n",
    "print(s)"
   ]
  },
  {
   "cell_type": "code",
   "execution_count": 11,
   "metadata": {},
   "outputs": [
    {
     "name": "stdout",
     "output_type": "stream",
     "text": [
      "{1668, 10, 12, 150}\n"
     ]
    }
   ],
   "source": [
    "#filter() within MAP() FUNCTION by using LAMBDA FUNCTION\n",
    "z=map(lambda a: a+a,filter(lambda a: (a>=5),[1,3,5,6,75,834]))\n",
    "print(set(z))"
   ]
  },
  {
   "cell_type": "code",
   "execution_count": 9,
   "metadata": {},
   "outputs": [
    {
     "name": "stdout",
     "output_type": "stream",
     "text": [
      "(8, 10, 134, 156)\n"
     ]
    }
   ],
   "source": [
    "#MAP() WITHIN FILTER() FUNCTION BY USING LAMBDA FUNCTION\n",
    "d=filter(lambda x: (x>=5),map(lambda x:x+x,[1,2,4,5,67,78]))\n",
    "print(tuple(d))"
   ]
  },
  {
   "cell_type": "code",
   "execution_count": 16,
   "metadata": {},
   "outputs": [
    {
     "name": "stdout",
     "output_type": "stream",
     "text": [
      "42\n"
     ]
    }
   ],
   "source": [
    "#map() and filter() within filter() functions by using lambda functions #cannot covert one data type into another data type\n",
    "e=reduce(lambda x,y:x+y, map(lambda x:x+x,filter(lambda x: (x<=6),[1,2,3,4,5,6,7,8,9])))\n",
    "print(e)"
   ]
  }
 ],
 "metadata": {
  "kernelspec": {
   "display_name": "Python 3.11.0 64-bit",
   "language": "python",
   "name": "python3"
  },
  "language_info": {
   "codemirror_mode": {
    "name": "ipython",
    "version": 3
   },
   "file_extension": ".py",
   "mimetype": "text/x-python",
   "name": "python",
   "nbconvert_exporter": "python",
   "pygments_lexer": "ipython3",
   "version": "3.11.0 (main, Oct 24 2022, 18:26:48) [MSC v.1933 64 bit (AMD64)]"
  },
  "orig_nbformat": 4,
  "vscode": {
   "interpreter": {
    "hash": "48c6b02863d2b42627be01e30782f8f6eb5c63e7bc4f6c0bfa5242fa9b3f9e51"
   }
  }
 },
 "nbformat": 4,
 "nbformat_minor": 2
}
