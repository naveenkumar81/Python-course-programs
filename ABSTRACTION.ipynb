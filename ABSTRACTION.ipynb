{
 "cells": [
  {
   "cell_type": "code",
   "execution_count": null,
   "metadata": {},
   "outputs": [],
   "source": [
    " #ABSTRACTION :-->IT I THE PROCESS OF HIDING THE INTERNAL FUCTIONALITY (OR) THE UNNECESSARY INFORMATIOM FROM THE USER.\n",
    " # THE USER ONLY INTERACT WITH THE IMPLEMENTATION OF THE FUNCTION ,BUT INNER WORKING IS HIDDEN.\n",
    " #IT IS USED IN PYTHON MANILY TO REDUCE THE COMPLEXITY .AND ALSO USED FOR EFFICIENCY.\n",
    "# Abstract Base Class(ABC):--> it is a module to use abstraction .\n",
    "#Abstract class is a a class consists of one or more than one abstract method.\n",
    "#Abstract class is inherited by sub-class. Abstract methods do not contain their implementation and \n",
    "#abstract method contain gets its definition from sub-class.\n",
    "# Abstract class is also used for creating large functons.\n",
    "# Abstract class are meant of blueprint for other class  \n",
    "# THE ABC WORKS BY DECORATING METHODS OF THE BASE CLASS AS ABSTARCT.\n",
    "# @ABSTRACTMETHOD IS DECORATOR TO DEFINE ABSTRACT METHOD\n",
    "\n",
    "\n",
    "#IMPORTANT POINTS FOR ABSTRACTION:-->\n",
    "# 1--- ABSTRACT CLASS CAN HAVE NORMAL METHOD AND ABSTRACT METHOD.\n",
    "# 2---- AN ABSTRACT CANNOT BE INSTANTIATED, WE CANNOT CREATE OBJECTS FOR ABSTARCT CLASS"
   ]
  },
  {
   "cell_type": "code",
   "execution_count": 1,
   "metadata": {},
   "outputs": [
    {
     "name": "stdout",
     "output_type": "stream",
     "text": [
      "milege: 55\n",
      "milege : 45\n",
      "milege is 556\n"
     ]
    }
   ],
   "source": [
    "# AN EXAMPLE FOR ABSTRACTION\n",
    "from abc import ABC,abstractmethod\n",
    "class Car(ABC):\n",
    "    def milege(self):\n",
    "        pass\n",
    "class Tesla(Car):\n",
    "    def milege(self):\n",
    "        print(\"milege: 55\")\n",
    "class Renault(Car):\n",
    "    def milege(self):\n",
    "        print(\"milege : 45\")\n",
    "class Bmw(Car):\n",
    "    def milege(self):\n",
    "        print(\"milege is 556\")\n",
    "        \n",
    "T = Tesla()\n",
    "T.milege()\n",
    "R = Renault()\n",
    "R.milege()\n",
    "B = Bmw()\n",
    "B.milege()"
   ]
  },
  {
   "cell_type": "code",
   "execution_count": 7,
   "metadata": {},
   "outputs": [
    {
     "name": "stdout",
     "output_type": "stream",
     "text": [
      "3 sides\n",
      "5 sides\n",
      "6 sides\n"
     ]
    }
   ],
   "source": [
    "# ANOTHER EXAMPLE FOR ABSTRACTION\n",
    "from abc import ABC\n",
    "class polygon(ABC):\n",
    "    def sides(self):\n",
    "        pass\n",
    "class triangle(polygon):\n",
    "    def sides(self):\n",
    "        print(3,\"sides\")\n",
    "        \n",
    "class pentagon(polygon):\n",
    "    def sides(self):\n",
    "        print(5,\"sides\")\n",
    "class hexagon(polygon):\n",
    "    def sides(self):\n",
    "        print(6,\"sides\")\n",
    "    \n",
    "t = triangle()\n",
    "t.sides()\n",
    "p = pentagon()\n",
    "p.sides()\n",
    "h = hexagon()\n",
    "h.sides()\n"
   ]
  },
  {
   "cell_type": "code",
   "execution_count": null,
   "metadata": {},
   "outputs": [],
   "source": []
  }
 ],
 "metadata": {
  "kernelspec": {
   "display_name": "Python 3",
   "language": "python",
   "name": "python3"
  },
  "language_info": {
   "codemirror_mode": {
    "name": "ipython",
    "version": 3
   },
   "file_extension": ".py",
   "mimetype": "text/x-python",
   "name": "python",
   "nbconvert_exporter": "python",
   "pygments_lexer": "ipython3",
   "version": "3.11.0 (main, Oct 24 2022, 18:26:48) [MSC v.1933 64 bit (AMD64)]"
  },
  "orig_nbformat": 4,
  "vscode": {
   "interpreter": {
    "hash": "48c6b02863d2b42627be01e30782f8f6eb5c63e7bc4f6c0bfa5242fa9b3f9e51"
   }
  }
 },
 "nbformat": 4,
 "nbformat_minor": 2
}
